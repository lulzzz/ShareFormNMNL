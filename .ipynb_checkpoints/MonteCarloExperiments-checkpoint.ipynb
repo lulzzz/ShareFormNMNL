{
 "cells": [
  {
   "cell_type": "markdown",
   "metadata": {},
   "source": [
    "# Monte Carlo experiments\n",
    "\n",
    "In this workbook, we develop some Monte Carlo experiments that illustrate different ways of estimating a share form multinomial logit. \n",
    "\n",
    "In the paper(!), we show that the log-likelihood function for a market $i$ can be written as follows, if $\\phi$ is the normal density function:\n",
    "\n",
    "$$\n",
    "L_i = \\Pi_{i=1}^N\\frac{1}{\\sigma}\\phi\\left(\\frac{y-X\\beta-\\rho_i s_{i|g}}{\\sigma}\\right)\\frac{1}{(1-\\rho)^{N_g-1}}\n",
    "$$\n",
    "\n",
    "Accordingly, we can make moment conditions from the score function, or we can use this in estimation directly. We also have a proof that this can be written in the exponential form (do we?) \n",
    "\n",
    "In any event, we can put together a Monte-Carlo experiment.\n",
    "\n",
    "To get started, let's get ipystata rolling, and then switch to the correct directory:"
   ]
  },
  {
   "cell_type": "code",
   "execution_count": 2,
   "metadata": {
    "collapsed": true
   },
   "outputs": [],
   "source": [
    "import ipystata"
   ]
  },
  {
   "cell_type": "code",
   "execution_count": 5,
   "metadata": {
    "collapsed": true
   },
   "outputs": [],
   "source": [
    "tempdir = 'C:\\\\Users\\\\mjbaker\\\\Documents\\\\github\\\\ShareFormNMNL'"
   ]
  },
  {
   "cell_type": "code",
   "execution_count": 6,
   "metadata": {
    "collapsed": false
   },
   "outputs": [
    {
     "name": "stdout",
     "output_type": "stream",
     "text": [
      "\n",
      "C:\\Users\\mjbaker\\Documents\\github\\ShareFormNMNL\n",
      "\n"
     ]
    }
   ],
   "source": [
    "%%stata -i tempdir \n",
    "cd \"`tempdir'\""
   ]
  },
  {
   "cell_type": "markdown",
   "metadata": {},
   "source": [
    "We will create a data set with 10000 observations over 1000 markets. Thus, each market will have ten competitors in it. We will also suppose that there are three nests. We can create market id's as follows (it's easiest to just use the mata kronecker delta to do this). \n",
    "\n",
    "The subsequent block of code then creates player ids, and then creates a grouping variable:"
   ]
  },
  {
   "cell_type": "code",
   "execution_count": 8,
   "metadata": {
    "collapsed": false
   },
   "outputs": [
    {
     "name": "stdout",
     "output_type": "stream",
     "text": [
      "\n",
      "(3,000 real changes made)\n",
      "\n",
      "(3,000 real changes made)\n",
      "\n",
      "(1,000 real changes made)\n",
      "\n"
     ]
    }
   ],
   "source": [
    "%%stata\n",
    "\n",
    "clear all\n",
    "set seed 5150\n",
    "mata: mid = (1::1000)#J(10,1,1)\n",
    "getmata mid\n",
    "\n",
    "bysort mid: gen pid = _n\n",
    "gen     group = 1\n",
    "replace group = 2 if pid > 3 & pid < 7\n",
    "replace group = 3 if pid > 6 & pid < 10\n",
    "replace group = 0 if pid == 10"
   ]
  },
  {
   "cell_type": "code",
   "execution_count": null,
   "metadata": {
    "collapsed": true
   },
   "outputs": [],
   "source": []
  }
 ],
 "metadata": {
  "kernelspec": {
   "display_name": "Python 3",
   "language": "python",
   "name": "python3"
  },
  "language_info": {
   "codemirror_mode": {
    "name": "ipython",
    "version": 3
   },
   "file_extension": ".py",
   "mimetype": "text/x-python",
   "name": "python",
   "nbconvert_exporter": "python",
   "pygments_lexer": "ipython3",
   "version": "3.4.5"
  }
 },
 "nbformat": 4,
 "nbformat_minor": 2
}
